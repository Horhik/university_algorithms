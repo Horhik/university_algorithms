{
 "cells": [
  {
   "cell_type": "markdown",
   "metadata": {},
   "source": [
    "# Линейная алгебра и аналитическая геометрия\n",
    "Даны координаты вершин треугольной пирамиды $A_1A_2A_3A_4:$\n",
    "$A_1(-2,-2,-6),\\,A_2(2,-5,0),\\,A_3(-1,4,-9),\\;A_4(0,3,0)$\n",
    "в декартовой прямоугольной системе координат."
   ]
  },
  {
   "cell_type": "markdown",
   "metadata": {},
   "source": [
    "# 1) Найти косинус угла $\\alpha$ между плоскостями $A_1A_2A_3$ и $A_2A_3A_4$\n",
    "# 2) Найти площадь грани $A_1A_2A_3$\n",
    "# 3) Найти V объём пирамиды\n",
    "# 4) Найти H длину высоты, опущенной из вершины  $A_4$ на грань $A_1A_2A_3$\n",
    "# 5) Координаты точки $A_5$ симметричной $A_4$ относительно грани $A_1A_2A_3$\n",
    "# 6) Координаты точки $A_6$ симметричной $A_4$ относительно прямой $A_2A_3$\n",
    "# 7) Найти расстояние $D_1$  между точкой $A_4$ и прямой $A_2A_3$\n",
    "# 8) Найти расстояние $D_2$  между рёбрами $A_1A_3$ и прямой $A_2A_4$\n",
    "# 9) Найти радиус и координаты центра шара, описанного вокруг пирамиды"
   ]
  },
  {
   "cell_type": "markdown",
   "metadata": {},
   "source": [
    "Составим уравнение плоскостей $A_1A_2A_3$ и $A_2A_3A_4$:"
   ]
  },
  {
   "cell_type": "code",
   "execution_count": 58,
   "metadata": {},
   "outputs": [],
   "source": [
    "import sympy as sm\n",
    "from sympy.matrices import Matrix, eye, zeros, det\n"
   ]
  },
  {
   "cell_type": "code",
   "execution_count": 41,
   "metadata": {},
   "outputs": [
    {
     "name": "stdout",
     "output_type": "stream",
     "text": [
      "Help on method hstack in module sympy.matrices.common:\n",
      "\n",
      "hstack(*args) method of builtins.type instance\n",
      "    Return a matrix formed by joining args horizontally (i.e.\n",
      "    by repeated application of row_join).\n",
      "    \n",
      "    Examples\n",
      "    ========\n",
      "    \n",
      "    >>> from sympy import Matrix, eye\n",
      "    >>> Matrix.hstack(eye(2), 2*eye(2))\n",
      "    Matrix([\n",
      "    [1, 0, 2, 0],\n",
      "    [0, 1, 0, 2]])\n",
      "\n"
     ]
    }
   ],
   "source": [
    "# help(Matrix.hstack)"
   ]
  },
  {
   "cell_type": "code",
   "execution_count": 46,
   "metadata": {},
   "outputs": [],
   "source": [
    "#help(sm.init_printing)"
   ]
  },
  {
   "cell_type": "code",
   "execution_count": 2,
   "metadata": {},
   "outputs": [],
   "source": [
    "A1=Matrix([-2,-2,-6])\n",
    "A2=Matrix((2,-5,0))\n",
    "A3=Matrix((-1,4,-9))\n",
    "A4=Matrix((0,3,0))"
   ]
  },
  {
   "cell_type": "code",
   "execution_count": 48,
   "metadata": {},
   "outputs": [],
   "source": [
    "x,y,z = sm.symbols('x y z')\n",
    "p = Matrix([x,y,z])#  Координаты произвольной точки p\n"
   ]
  },
  {
   "cell_type": "code",
   "execution_count": 4,
   "metadata": {},
   "outputs": [
    {
     "data": {
      "text/latex": [
       "$\\displaystyle x^{2} + 2 x + 1$"
      ],
      "text/plain": [
       "x**2 + 2*x + 1"
      ]
     },
     "execution_count": 4,
     "metadata": {},
     "output_type": "execute_result"
    }
   ],
   "source": [
    "eq1 = x ** 2 + 2 * x + 1\n",
    "eq1"
   ]
  },
  {
   "cell_type": "code",
   "execution_count": 9,
   "metadata": {},
   "outputs": [
    {
     "data": {
      "text/latex": [
       "$\\displaystyle x^{4} + 4 x^{3} + 6 x^{2} + 4 x + 1$"
      ],
      "text/plain": [
       "x**4 + 4*x**3 + 6*x**2 + 4*x + 1"
      ]
     },
     "execution_count": 9,
     "metadata": {},
     "output_type": "execute_result"
    }
   ],
   "source": [
    "eq2 = sm.expand(eq1**2)\n",
    "eq2"
   ]
  },
  {
   "cell_type": "code",
   "execution_count": 11,
   "metadata": {},
   "outputs": [
    {
     "data": {
      "text/latex": [
       "$\\displaystyle 4$"
      ],
      "text/plain": [
       "4"
      ]
     },
     "execution_count": 11,
     "metadata": {},
     "output_type": "execute_result"
    }
   ],
   "source": [
    "c1 = eq2.coeff(x)\n",
    "c1"
   ]
  },
  {
   "cell_type": "code",
   "execution_count": 12,
   "metadata": {},
   "outputs": [
    {
     "data": {
      "text/latex": [
       "$\\displaystyle 6$"
      ],
      "text/plain": [
       "6"
      ]
     },
     "execution_count": 12,
     "metadata": {},
     "output_type": "execute_result"
    }
   ],
   "source": [
    "c2 = eq2.coeff(x**2)\n",
    "c2"
   ]
  },
  {
   "cell_type": "code",
   "execution_count": 15,
   "metadata": {},
   "outputs": [
    {
     "data": {
      "text/latex": [
       "$\\displaystyle 1$"
      ],
      "text/plain": [
       "1"
      ]
     },
     "execution_count": 15,
     "metadata": {},
     "output_type": "execute_result"
    }
   ],
   "source": [
    "c0 = eq2.coeff(x**4)\n",
    "c0"
   ]
  },
  {
   "cell_type": "code",
   "execution_count": 18,
   "metadata": {},
   "outputs": [
    {
     "data": {
      "text/latex": [
       "$\\displaystyle 3 x^{2} + 2 y^{3} + 4 y + 7 z$"
      ],
      "text/plain": [
       "3*x**2 + 2*y**3 + 4*y + 7*z"
      ]
     },
     "execution_count": 18,
     "metadata": {},
     "output_type": "execute_result"
    }
   ],
   "source": [
    "eq3 = 3*x**2+2*y**3+4*y +7* z\n",
    "eq3"
   ]
  },
  {
   "cell_type": "code",
   "execution_count": 20,
   "metadata": {},
   "outputs": [
    {
     "data": {
      "text/plain": [
       "(0, 4, 7, 3)"
      ]
     },
     "execution_count": 20,
     "metadata": {},
     "output_type": "execute_result"
    }
   ],
   "source": [
    "eq3.coeff(x), eq3.coeff(y), eq3.coeff(z), eq3.coeff(x**2) "
   ]
  },
  {
   "cell_type": "code",
   "execution_count": 27,
   "metadata": {},
   "outputs": [
    {
     "data": {
      "text/plain": [
       "[-1 - 2*I, -1 + 2*I]"
      ]
     },
     "execution_count": 27,
     "metadata": {},
     "output_type": "execute_result"
    }
   ],
   "source": [
    "e1 = sm.Eq(eq1, -4) # Задание уравнения\n",
    "sol = sm.solve(e1)\n",
    "sol"
   ]
  },
  {
   "cell_type": "code",
   "execution_count": 29,
   "metadata": {},
   "outputs": [
    {
     "data": {
      "text/plain": [
       "(-1 - 2*I, -1 + 2*I)"
      ]
     },
     "execution_count": 29,
     "metadata": {},
     "output_type": "execute_result"
    }
   ],
   "source": [
    "sol[0], sol[1]"
   ]
  },
  {
   "cell_type": "code",
   "execution_count": 36,
   "metadata": {},
   "outputs": [
    {
     "data": {
      "text/latex": [
       "$\\displaystyle x^{4} + 4 x^{3} + 6 x^{2} + 4 x + \\left(2 x - 2\\right)^{2} + 1$"
      ],
      "text/plain": [
       "x**4 + 4*x**3 + 6*x**2 + 4*x + (2*x - 2)**2 + 1"
      ]
     },
     "execution_count": 36,
     "metadata": {},
     "output_type": "execute_result"
    }
   ],
   "source": [
    "#help(Matrix.cross) # векторное произведение\n",
    "#help(Matrix.dot) # скалярное произведение\n",
    "eq4 = eq2 + (2*x-2)**2\n",
    "eq4"
   ]
  },
  {
   "cell_type": "code",
   "execution_count": 37,
   "metadata": {},
   "outputs": [
    {
     "data": {
      "text/latex": [
       "$\\displaystyle x^{4} + 4 x^{3} + 10 x^{2} - 4 x + 5$"
      ],
      "text/plain": [
       "x**4 + 4*x**3 + 10*x**2 - 4*x + 5"
      ]
     },
     "execution_count": 37,
     "metadata": {},
     "output_type": "execute_result"
    }
   ],
   "source": [
    "sm.simplify(eq4)"
   ]
  },
  {
   "cell_type": "code",
   "execution_count": 38,
   "metadata": {},
   "outputs": [
    {
     "data": {
      "text/latex": [
       "$\\displaystyle \\frac{x - 1}{x + 1}$"
      ],
      "text/plain": [
       "(x - 1)/(x + 1)"
      ]
     },
     "execution_count": 38,
     "metadata": {},
     "output_type": "execute_result"
    }
   ],
   "source": [
    "sm.simplify((x**2 - 1)/(x + 1 )**2)"
   ]
  },
  {
   "cell_type": "code",
   "execution_count": 42,
   "metadata": {},
   "outputs": [
    {
     "data": {
      "text/latex": [
       "$\\displaystyle \\sqrt{3}$"
      ],
      "text/plain": [
       "sqrt(3)"
      ]
     },
     "execution_count": 42,
     "metadata": {},
     "output_type": "execute_result"
    }
   ],
   "source": [
    "sm.sqrt(3)"
   ]
  },
  {
   "cell_type": "code",
   "execution_count": 44,
   "metadata": {},
   "outputs": [
    {
     "data": {
      "text/latex": [
       "$\\displaystyle 1.732051$"
      ],
      "text/plain": [
       "1.732051"
      ]
     },
     "execution_count": 44,
     "metadata": {},
     "output_type": "execute_result"
    }
   ],
   "source": [
    "sm.sqrt(3).evalf(7)"
   ]
  },
  {
   "cell_type": "code",
   "execution_count": null,
   "metadata": {},
   "outputs": [],
   "source": []
  },
  {
   "cell_type": "code",
   "execution_count": null,
   "metadata": {},
   "outputs": [],
   "source": []
  },
  {
   "cell_type": "code",
   "execution_count": null,
   "metadata": {},
   "outputs": [],
   "source": []
  },
  {
   "cell_type": "code",
   "execution_count": null,
   "metadata": {},
   "outputs": [],
   "source": []
  },
  {
   "cell_type": "markdown",
   "metadata": {},
   "source": [
    "Составим уравнение плоскости $S_1$ проходящей через точки $A_1(x_1,y_1,z_1),\\,A_2(x_2,y_2,z_2),\\,A_3(x_3,y_3,z_3)$\n",
    "\n",
    "$$\\begin{vmatrix}\n",
    "x-x_1 & y-y_1 & z-z_1\\\\\n",
    "x_2-x_1 & y_2-y_1 & z_2-z_1\\\\\n",
    "x_3-x_1 & y_3-y_1 & z_3-z_1\\\\\n",
    "\\end{vmatrix}=0$$"
   ]
  },
  {
   "cell_type": "code",
   "execution_count": 56,
   "metadata": {},
   "outputs": [
    {
     "data": {
      "text/latex": [
       "$\\displaystyle \\left[\\begin{matrix}x + 2 & y + 2 & z + 6\\\\4 & -3 & 6\\\\1 & 6 & -3\\end{matrix}\\right]$"
      ],
      "text/plain": [
       "Matrix([\n",
       "[x + 2, y + 2, z + 6],\n",
       "[    4,    -3,     6],\n",
       "[    1,     6,    -3]])"
      ]
     },
     "execution_count": 56,
     "metadata": {},
     "output_type": "execute_result"
    }
   ],
   "source": [
    "M = Matrix.vstack((p - A1).transpose(), (A2 - A1).transpose(),\n",
    "                 (A3 - A1).transpose())\n",
    "M"
   ]
  },
  {
   "cell_type": "code",
   "execution_count": 52,
   "metadata": {},
   "outputs": [
    {
     "data": {
      "text/latex": [
       "$\\displaystyle \\left[\\begin{matrix}x + 2 & y + 2 & z + 6\\end{matrix}\\right]$"
      ],
      "text/plain": [
       "Matrix([[x + 2, y + 2, z + 6]])"
      ]
     },
     "execution_count": 52,
     "metadata": {},
     "output_type": "execute_result"
    }
   ],
   "source": [
    "(p - A1).transpose()"
   ]
  },
  {
   "cell_type": "code",
   "execution_count": 54,
   "metadata": {},
   "outputs": [
    {
     "data": {
      "text/latex": [
       "$\\displaystyle \\left[\\begin{matrix}4 & -3 & 6\\end{matrix}\\right]$"
      ],
      "text/plain": [
       "Matrix([[4, -3, 6]])"
      ]
     },
     "execution_count": 54,
     "metadata": {},
     "output_type": "execute_result"
    }
   ],
   "source": [
    "(A2 - A1).transpose()"
   ]
  },
  {
   "cell_type": "code",
   "execution_count": 59,
   "metadata": {},
   "outputs": [
    {
     "data": {
      "text/latex": [
       "$\\displaystyle - 27 x + 18 y + 27 z + 144$"
      ],
      "text/plain": [
       "-27*x + 18*y + 27*z + 144"
      ]
     },
     "execution_count": 59,
     "metadata": {},
     "output_type": "execute_result"
    }
   ],
   "source": [
    "det(M)"
   ]
  },
  {
   "cell_type": "code",
   "execution_count": null,
   "metadata": {},
   "outputs": [],
   "source": []
  }
 ],
 "metadata": {
  "kernelspec": {
   "display_name": "Python 3 (ipykernel)",
   "language": "python",
   "name": "python3"
  },
  "language_info": {
   "codemirror_mode": {
    "name": "ipython",
    "version": 3
   },
   "file_extension": ".py",
   "mimetype": "text/x-python",
   "name": "python",
   "nbconvert_exporter": "python",
   "pygments_lexer": "ipython3",
   "version": "3.9.13"
  }
 },
 "nbformat": 4,
 "nbformat_minor": 2
}
